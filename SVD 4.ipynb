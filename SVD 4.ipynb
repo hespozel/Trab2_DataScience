{
 "cells": [
  {
   "cell_type": "code",
   "execution_count": 3,
   "metadata": {},
   "outputs": [],
   "source": [
    "# Image compression using SVD\n",
    "# This program has following dependencies:\n",
    "# skimage, matplotlib, scipy, numpy and PIL\n",
    "\n",
    "import argparse\n",
    "import numpy as np\n",
    "import matplotlib.pyplot as plt\n",
    "from scipy import misc\n",
    "from scipy import linalg\n",
    "from PIL import Image\n",
    "from skimage import io, img_as_float, img_as_uint\n",
    "from skimage.measure import structural_similarity as ssim\n",
    "\n"
   ]
  },
  {
   "cell_type": "code",
   "execution_count": 21,
   "metadata": {},
   "outputs": [
    {
     "name": "stdout",
     "output_type": "stream",
     "text": [
      "C:\\Users\\hespo\\OneDrive\\Documentos\\GitHub\\Machine-Lerning-2017.2\n"
     ]
    }
   ],
   "source": [
    "import os\n",
    "dirori=\"C:/Users/hespo/OneDrive/Documentos/GitHub/Machine-Lerning-2017.2/gs\"\n",
    "dirdest=\"C:/Users/hespo/OneDrive/Documentos/GitHub/Machine-Lerning-2017.2/gsdiffk\"\n",
    "os.chdir(\"C:/Users/hespo/OneDrive/Documentos/GitHub/Machine-Lerning-2017.2\")\n",
    "cwd = os.getcwd()\n",
    "print (cwd)"
   ]
  },
  {
   "cell_type": "code",
   "execution_count": 4,
   "metadata": {},
   "outputs": [],
   "source": [
    "def combine(U, S, V):\n",
    "    return np.dot(np.dot(U, S), V)"
   ]
  },
  {
   "cell_type": "code",
   "execution_count": 8,
   "metadata": {},
   "outputs": [],
   "source": [
    "def svd_compress_ssim(img, target_ss):\n",
    "    \"\"\"Compress image by finding k that is closest to target ssim.\n",
    "    Since rank and ssim relationship is linear, we do a \n",
    "    binary search, followed by finer grained linear search\"\"\"\n",
    "    rank = min(img.shape[0], img.shape[1])\n",
    "    left = 1\n",
    "    right = ranklast_ss = 100\n",
    "    k = 1\n",
    "    compressed = None\n",
    "    U, singular_vals, V = linalg.svd(img)\n",
    "    # binary search\n",
    "    while left < right:\t\n",
    "        k = (left + right) / 2\n",
    "        S_p = np.zeros((k, k), img.dtype)\n",
    "        for i in range(k):\n",
    "            S_p[i][i] = singular_vals[i]\n",
    "        compressed = combine(U[:,:k], S_p, V[:k,:])\n",
    "        ss = ssim(img, compressed,dynamic_range=compressed.max()-compressed.min())\n",
    "        if abs(ss - target_ss) < abs(last_ss - target_ss):\n",
    "            last_ss = ss\n",
    "            if ss > target_ss:\n",
    "                right = k\n",
    "            else:\n",
    "                left = k\n",
    "        else:\n",
    "            break\n",
    "            # more fine grained linear searc\n",
    "    if last_ss < target_ss:\n",
    "        while 1:\n",
    "            S_p = np.zeros((k + 1, k + 1), img.dtype)\n",
    "            for i in range(k + 1):\n",
    "                S_p[i][i] = singular_vals[i]\n",
    "            compressed = combine(U[:,:k+1], S_p, V[:k+1,:])\n",
    "            ss = ssim(img, compressed, dynamic_range=compressed.max()-compressed.min())\n",
    "            if abs(ss - target_ss) < abs(last_ss - target_ss):\n",
    "                last_ss = ss\n",
    "                k += 1\n",
    "            else:\n",
    "                break\n",
    "    else:\n",
    "        while 1:\n",
    "            S_p = np.zeros((k - 1, k - 1), img.dtype)\n",
    "            for i in range(k - 1):\n",
    "                S_p[i][i] = singular_vals[i]\n",
    "            compressed = combine(U[:,:k-1], S_p, V[:k-1,:])\n",
    "            ss = ssim(img, compressed,dynamic_range=compressed.max()-compressed.min())\n",
    "            if abs(ss - target_ss) < abs(last_ss - target_ss):\n",
    "                last_ss = ss\n",
    "                k -= 1\n",
    "            else:\n",
    "                break\n",
    "    print (\"Best k found %r with ssim %r\" % (k, last_ss))\n",
    "    return compressed"
   ]
  },
  {
   "cell_type": "code",
   "execution_count": 5,
   "metadata": {},
   "outputs": [],
   "source": [
    "def svd_compress_gs(img, k):\n",
    "\n",
    "    \"\"\"Given a matrix representing a grayscale image, compress \n",
    "    it by taking the largest k elements from its singular values\"\"\"\n",
    "    U, singular_vals, V = linalg.svd(img)\n",
    "    rank = len(singular_vals)\n",
    "    print (\"Image rank %r\" % rank)\n",
    "    if k > rank:\n",
    "        print (\"k is larger than rank of image %r\" % rank)\n",
    "        return img\n",
    "    # take columns less than k from U\n",
    "    U_p = U[:,:k]\n",
    "    # take rows less than k from V\n",
    "    V_p = V[:k,:]\n",
    "    # build the new S matrix with top k diagnal elements\n",
    "    S_p = np.zeros((k, k), img.dtype)\n",
    "    for i in range(k):\n",
    "        S_p[i][i] = singular_vals[i]\n",
    "    print (\"U_p shape {0}, S_p shape {1}, V_p shape {2}\".format(U_p.shape, S_p.shape, V_p.shape))\n",
    "    compressed = np.dot(np.dot(U_p, S_p), V_p)\n",
    "    ss = ssim(img, compressed,dynamic_range=compressed.max()-compressed.min())\n",
    "    print (\"Strucural similarity: %r\" % ss)\n",
    "    return compressed"
   ]
  },
  {
   "cell_type": "code",
   "execution_count": 7,
   "metadata": {},
   "outputs": [],
   "source": [
    "def svd_compress_rgb(img, k_r, k_g, k_b):\n",
    "    \"\"\"Given a matrix representing a RGB image, compress \n",
    "    it by taking the largest k elements from its singular values\"\"\"\n",
    "    # split into separate channels\n",
    "    comp_r = svd_compress_gs(img[:,:,0], k_r)\n",
    "    comp_g = svd_compress_gs(img[:,:,1], k_g)\n",
    "    comp_b = svd_compress_gs(img[:,:,2], k_b)\n",
    "    new_img = np.zeros(img.shape, img.dtype)\n",
    "    nrows = img.shape[0]\n",
    "    ncols = img.shape[1]\n",
    "    nchans = img.shape[2]\n",
    "    for i in range(nrows):\n",
    "        for j in range(ncols):\n",
    "            for c in range(nchans):\n",
    "                val = 0\n",
    "                if c == 0:\n",
    "                    val = comp_r[i][j]\n",
    "                elif c == 1:\n",
    "                    val = comp_g[i][j]\n",
    "                else:\n",
    "                    val = comp_b[i][j]\n",
    "                # float64 values must be between -1.0 and 1.0\n",
    "                if val < -1.0:\n",
    "                    val = -1.0\n",
    "                elif val > 1.0:\n",
    "                    val = 1.0\n",
    "                new_img[i][j][c] = val\n",
    "    return new_img"
   ]
  },
  {
   "cell_type": "code",
   "execution_count": 9,
   "metadata": {},
   "outputs": [],
   "source": [
    "def compress_ratio(orig_img, k):\n",
    "    \"\"\"Calculate the compression ratio of an compressed imag\n",
    "    to the original image.\"\"\"\n",
    "    m = float(orig_img.shape[0])\n",
    "    n = float(orig_img.shape[1])\n",
    "    comp_bytes = 0\n",
    "    if len(orig_img.shape) > 2:\n",
    "        comp_bytes += k[0] * (m + n + 1)\n",
    "        comp_bytes += k[1] * (m + n + 1)\n",
    "        comp_bytes += k[2] * (m + n + 1)\n",
    "        return comp_bytes / (3 * m * n)\n",
    "    else:\n",
    "        comp_bytes = k[0] * (m + n + 1)\n",
    "        return comp_bytes / (m * n)"
   ]
  },
  {
   "cell_type": "code",
   "execution_count": 11,
   "metadata": {},
   "outputs": [],
   "source": [
    "def compress_images_k(in_dir, out_dir, num_imgs, img_format, k_values):\n",
    "    \"\"\"Compress images with different k values. Compressed format is png.\"\"\"\n",
    "    for i in range(1, num_imgs+1):\n",
    "        img = io.imread(\"{0}/{1}.{2}\".format(in_dir, i, img_format))\n",
    "        img = img_as_float(img)\n",
    "        for k in k_values:\n",
    "            filename = \"{0}/{1}/{2}.png\".format(out_dir, i, k) \n",
    "            print (filename)\n",
    "            # check if this is an RGB or grayscale image\n",
    "            compressed = None\n",
    "            if len(img.shape) > 2:\n",
    "                compressed = svd_compress_rgb(img, k, k, k)\n",
    "            else:\n",
    "                compressed = svd_compress_gs(img, k)\n",
    "            io.imsave(filename, compressed)"
   ]
  },
  {
   "cell_type": "code",
   "execution_count": 12,
   "metadata": {},
   "outputs": [],
   "source": [
    "def compress_images_ss(in_dir, out_dir, num_imgs, img_format, ss_values):\n",
    "    \"\"\"Compress images with different k values. Compressed format is png.\"\"\"\n",
    "    for i in range(1, num_imgs+1):\n",
    "        img = io.imread(\"{0}/{1}.{2}\".format(in_dir, i, img_format))\n",
    "        img = img_as_float(img)\n",
    "        for ss in ss_values:\n",
    "            filename = \"{0}/{1}/{2}.png\".format(out_dir, i, str(ss).replace('.', ''))\n",
    "            print (filename)\n",
    "            # check if this is an RGB or grayscale image\n",
    "            compressed = svd_compress_ssim(img, ss)\n",
    "            io.imsave(filename, compressed)"
   ]
  },
  {
   "cell_type": "code",
   "execution_count": 29,
   "metadata": {},
   "outputs": [
    {
     "name": "stdout",
     "output_type": "stream",
     "text": [
      "C:/Users/hespo/OneDrive/Documentos/GitHub/Machine-Lerning-2017.2/gsdiffk/1/1.png\n",
      "Image rank 213\n",
      "U_p shape (295, 1), S_p shape (1, 1), V_p shape (1, 213)\n",
      "Strucural similarity: 0.2148091549154873\n",
      "Image rank 213\n",
      "U_p shape (295, 1), S_p shape (1, 1), V_p shape (1, 213)\n",
      "Strucural similarity: 0.2148091549154873\n",
      "Image rank 213\n",
      "U_p shape (295, 1), S_p shape (1, 1), V_p shape (1, 213)\n",
      "Strucural similarity: 0.2148091549154873\n"
     ]
    },
    {
     "name": "stderr",
     "output_type": "stream",
     "text": [
      "C:\\Users\\hespo\\Anaconda3\\lib\\site-packages\\skimage\\measure\\_structural_similarity.py:234: skimage_deprecation: Function ``structural_similarity`` is deprecated and will be removed in version 0.14. Use ``compare_ssim`` instead.\n",
      "  def structural_similarity(X, Y, win_size=None, gradient=False,\n",
      "C:\\Users\\hespo\\Anaconda3\\lib\\site-packages\\skimage\\measure\\_structural_similarity.py:234: skimage_deprecation: Function ``structural_similarity`` is deprecated and will be removed in version 0.14. Use ``compare_ssim`` instead.\n",
      "  def structural_similarity(X, Y, win_size=None, gradient=False,\n",
      "C:\\Users\\hespo\\Anaconda3\\lib\\site-packages\\skimage\\measure\\_structural_similarity.py:234: skimage_deprecation: Function ``structural_similarity`` is deprecated and will be removed in version 0.14. Use ``compare_ssim`` instead.\n",
      "  def structural_similarity(X, Y, win_size=None, gradient=False,\n",
      "C:\\Users\\hespo\\Anaconda3\\lib\\site-packages\\skimage\\util\\dtype.py:122: UserWarning: Possible precision loss when converting from float64 to uint8\n",
      "  .format(dtypeobj_in, dtypeobj_out))\n",
      "C:\\Users\\hespo\\Anaconda3\\lib\\site-packages\\skimage\\measure\\_structural_similarity.py:234: skimage_deprecation: Function ``structural_similarity`` is deprecated and will be removed in version 0.14. Use ``compare_ssim`` instead.\n",
      "  def structural_similarity(X, Y, win_size=None, gradient=False,\n",
      "C:\\Users\\hespo\\Anaconda3\\lib\\site-packages\\skimage\\measure\\_structural_similarity.py:234: skimage_deprecation: Function ``structural_similarity`` is deprecated and will be removed in version 0.14. Use ``compare_ssim`` instead.\n",
      "  def structural_similarity(X, Y, win_size=None, gradient=False,\n",
      "C:\\Users\\hespo\\Anaconda3\\lib\\site-packages\\skimage\\measure\\_structural_similarity.py:234: skimage_deprecation: Function ``structural_similarity`` is deprecated and will be removed in version 0.14. Use ``compare_ssim`` instead.\n",
      "  def structural_similarity(X, Y, win_size=None, gradient=False,\n"
     ]
    },
    {
     "name": "stdout",
     "output_type": "stream",
     "text": [
      "C:/Users/hespo/OneDrive/Documentos/GitHub/Machine-Lerning-2017.2/gsdiffk/1/3.png\n",
      "Image rank 213\n",
      "U_p shape (295, 3), S_p shape (3, 3), V_p shape (3, 213)\n",
      "Strucural similarity: 0.39090084698974353\n",
      "Image rank 213\n",
      "U_p shape (295, 3), S_p shape (3, 3), V_p shape (3, 213)\n",
      "Strucural similarity: 0.39090084698974353\n",
      "Image rank 213\n",
      "U_p shape (295, 3), S_p shape (3, 3), V_p shape (3, 213)\n",
      "Strucural similarity: 0.39090084698974353\n"
     ]
    },
    {
     "name": "stderr",
     "output_type": "stream",
     "text": [
      "C:\\Users\\hespo\\Anaconda3\\lib\\site-packages\\skimage\\util\\dtype.py:122: UserWarning: Possible precision loss when converting from float64 to uint8\n",
      "  .format(dtypeobj_in, dtypeobj_out))\n",
      "C:\\Users\\hespo\\Anaconda3\\lib\\site-packages\\skimage\\measure\\_structural_similarity.py:234: skimage_deprecation: Function ``structural_similarity`` is deprecated and will be removed in version 0.14. Use ``compare_ssim`` instead.\n",
      "  def structural_similarity(X, Y, win_size=None, gradient=False,\n",
      "C:\\Users\\hespo\\Anaconda3\\lib\\site-packages\\skimage\\measure\\_structural_similarity.py:234: skimage_deprecation: Function ``structural_similarity`` is deprecated and will be removed in version 0.14. Use ``compare_ssim`` instead.\n",
      "  def structural_similarity(X, Y, win_size=None, gradient=False,\n",
      "C:\\Users\\hespo\\Anaconda3\\lib\\site-packages\\skimage\\measure\\_structural_similarity.py:234: skimage_deprecation: Function ``structural_similarity`` is deprecated and will be removed in version 0.14. Use ``compare_ssim`` instead.\n",
      "  def structural_similarity(X, Y, win_size=None, gradient=False,\n"
     ]
    },
    {
     "name": "stdout",
     "output_type": "stream",
     "text": [
      "C:/Users/hespo/OneDrive/Documentos/GitHub/Machine-Lerning-2017.2/gsdiffk/1/5.png\n",
      "Image rank 213\n",
      "U_p shape (295, 5), S_p shape (5, 5), V_p shape (5, 213)\n",
      "Strucural similarity: 0.43486206971262087\n",
      "Image rank 213\n",
      "U_p shape (295, 5), S_p shape (5, 5), V_p shape (5, 213)\n",
      "Strucural similarity: 0.43486206971262087\n",
      "Image rank 213\n",
      "U_p shape (295, 5), S_p shape (5, 5), V_p shape (5, 213)\n",
      "Strucural similarity: 0.43486206971262087\n"
     ]
    },
    {
     "name": "stderr",
     "output_type": "stream",
     "text": [
      "C:\\Users\\hespo\\Anaconda3\\lib\\site-packages\\skimage\\util\\dtype.py:122: UserWarning: Possible precision loss when converting from float64 to uint8\n",
      "  .format(dtypeobj_in, dtypeobj_out))\n",
      "C:\\Users\\hespo\\Anaconda3\\lib\\site-packages\\skimage\\measure\\_structural_similarity.py:234: skimage_deprecation: Function ``structural_similarity`` is deprecated and will be removed in version 0.14. Use ``compare_ssim`` instead.\n",
      "  def structural_similarity(X, Y, win_size=None, gradient=False,\n",
      "C:\\Users\\hespo\\Anaconda3\\lib\\site-packages\\skimage\\measure\\_structural_similarity.py:234: skimage_deprecation: Function ``structural_similarity`` is deprecated and will be removed in version 0.14. Use ``compare_ssim`` instead.\n",
      "  def structural_similarity(X, Y, win_size=None, gradient=False,\n",
      "C:\\Users\\hespo\\Anaconda3\\lib\\site-packages\\skimage\\measure\\_structural_similarity.py:234: skimage_deprecation: Function ``structural_similarity`` is deprecated and will be removed in version 0.14. Use ``compare_ssim`` instead.\n",
      "  def structural_similarity(X, Y, win_size=None, gradient=False,\n"
     ]
    },
    {
     "name": "stdout",
     "output_type": "stream",
     "text": [
      "C:/Users/hespo/OneDrive/Documentos/GitHub/Machine-Lerning-2017.2/gsdiffk/1/10.png\n",
      "Image rank 213\n",
      "U_p shape (295, 10), S_p shape (10, 10), V_p shape (10, 213)\n",
      "Strucural similarity: 0.5336502818538662\n",
      "Image rank 213\n",
      "U_p shape (295, 10), S_p shape (10, 10), V_p shape (10, 213)\n",
      "Strucural similarity: 0.5336502818538662\n",
      "Image rank 213\n",
      "U_p shape (295, 10), S_p shape (10, 10), V_p shape (10, 213)\n",
      "Strucural similarity: 0.5336502818538662\n"
     ]
    },
    {
     "name": "stderr",
     "output_type": "stream",
     "text": [
      "C:\\Users\\hespo\\Anaconda3\\lib\\site-packages\\skimage\\util\\dtype.py:122: UserWarning: Possible precision loss when converting from float64 to uint8\n",
      "  .format(dtypeobj_in, dtypeobj_out))\n",
      "C:\\Users\\hespo\\Anaconda3\\lib\\site-packages\\skimage\\measure\\_structural_similarity.py:234: skimage_deprecation: Function ``structural_similarity`` is deprecated and will be removed in version 0.14. Use ``compare_ssim`` instead.\n",
      "  def structural_similarity(X, Y, win_size=None, gradient=False,\n",
      "C:\\Users\\hespo\\Anaconda3\\lib\\site-packages\\skimage\\measure\\_structural_similarity.py:234: skimage_deprecation: Function ``structural_similarity`` is deprecated and will be removed in version 0.14. Use ``compare_ssim`` instead.\n",
      "  def structural_similarity(X, Y, win_size=None, gradient=False,\n",
      "C:\\Users\\hespo\\Anaconda3\\lib\\site-packages\\skimage\\measure\\_structural_similarity.py:234: skimage_deprecation: Function ``structural_similarity`` is deprecated and will be removed in version 0.14. Use ``compare_ssim`` instead.\n",
      "  def structural_similarity(X, Y, win_size=None, gradient=False,\n"
     ]
    },
    {
     "name": "stdout",
     "output_type": "stream",
     "text": [
      "C:/Users/hespo/OneDrive/Documentos/GitHub/Machine-Lerning-2017.2/gsdiffk/1/15.png\n",
      "Image rank 213\n",
      "U_p shape (295, 15), S_p shape (15, 15), V_p shape (15, 213)\n",
      "Strucural similarity: 0.60729872392530426\n",
      "Image rank 213\n",
      "U_p shape (295, 15), S_p shape (15, 15), V_p shape (15, 213)\n",
      "Strucural similarity: 0.60729872392530426\n",
      "Image rank 213\n",
      "U_p shape (295, 15), S_p shape (15, 15), V_p shape (15, 213)\n",
      "Strucural similarity: 0.60729872392530426\n"
     ]
    },
    {
     "name": "stderr",
     "output_type": "stream",
     "text": [
      "C:\\Users\\hespo\\Anaconda3\\lib\\site-packages\\skimage\\util\\dtype.py:122: UserWarning: Possible precision loss when converting from float64 to uint8\n",
      "  .format(dtypeobj_in, dtypeobj_out))\n",
      "C:\\Users\\hespo\\Anaconda3\\lib\\site-packages\\skimage\\measure\\_structural_similarity.py:234: skimage_deprecation: Function ``structural_similarity`` is deprecated and will be removed in version 0.14. Use ``compare_ssim`` instead.\n",
      "  def structural_similarity(X, Y, win_size=None, gradient=False,\n",
      "C:\\Users\\hespo\\Anaconda3\\lib\\site-packages\\skimage\\measure\\_structural_similarity.py:234: skimage_deprecation: Function ``structural_similarity`` is deprecated and will be removed in version 0.14. Use ``compare_ssim`` instead.\n",
      "  def structural_similarity(X, Y, win_size=None, gradient=False,\n",
      "C:\\Users\\hespo\\Anaconda3\\lib\\site-packages\\skimage\\measure\\_structural_similarity.py:234: skimage_deprecation: Function ``structural_similarity`` is deprecated and will be removed in version 0.14. Use ``compare_ssim`` instead.\n",
      "  def structural_similarity(X, Y, win_size=None, gradient=False,\n"
     ]
    },
    {
     "name": "stdout",
     "output_type": "stream",
     "text": [
      "C:/Users/hespo/OneDrive/Documentos/GitHub/Machine-Lerning-2017.2/gsdiffk/1/20.png\n",
      "Image rank 213\n",
      "U_p shape (295, 20), S_p shape (20, 20), V_p shape (20, 213)\n",
      "Strucural similarity: 0.66732218399706\n",
      "Image rank 213\n",
      "U_p shape (295, 20), S_p shape (20, 20), V_p shape (20, 213)\n",
      "Strucural similarity: 0.66732218399706\n",
      "Image rank 213\n",
      "U_p shape (295, 20), S_p shape (20, 20), V_p shape (20, 213)\n",
      "Strucural similarity: 0.66732218399706\n"
     ]
    },
    {
     "name": "stderr",
     "output_type": "stream",
     "text": [
      "C:\\Users\\hespo\\Anaconda3\\lib\\site-packages\\skimage\\util\\dtype.py:122: UserWarning: Possible precision loss when converting from float64 to uint8\n",
      "  .format(dtypeobj_in, dtypeobj_out))\n"
     ]
    }
   ],
   "source": [
    "\n",
    "           \n",
    "    # compress images with different k values\n",
    "compress_images_k(dirori, dirdest, 1, \"jpg\", [1, 3, 5, 10, 15, 20])\n",
    "\t# compress_images_k(\"../rgb\", \"../rgbdiffk\", 10, \"jpg\", [5, 15, 25, 35, 45])\n",
    "\n",
    "\t# compress images with different target ss values using svd_compress_ssim\n",
    "#compress_images_ss (dirori, dirdest, 1, \"jpg\", [0.5, 0.6, 0.7, 0.8, 0.9])"
   ]
  },
  {
   "cell_type": "code",
   "execution_count": 17,
   "metadata": {},
   "outputs": [
    {
     "name": "stdout",
     "output_type": "stream",
     "text": [
      "C:\\Users\\hespo\\OneDrive\\Documentos\\GitHub\\Machine-Lerning-2017.2\n"
     ]
    }
   ],
   "source": [
    "cwd = os.getcwd()\n",
    "print (cwd)"
   ]
  },
  {
   "cell_type": "code",
   "execution_count": null,
   "metadata": {},
   "outputs": [],
   "source": []
  }
 ],
 "metadata": {
  "kernelspec": {
   "display_name": "Python 3",
   "language": "python",
   "name": "python3"
  },
  "language_info": {
   "codemirror_mode": {
    "name": "ipython",
    "version": 3
   },
   "file_extension": ".py",
   "mimetype": "text/x-python",
   "name": "python",
   "nbconvert_exporter": "python",
   "pygments_lexer": "ipython3",
   "version": "3.6.2"
  }
 },
 "nbformat": 4,
 "nbformat_minor": 2
}
